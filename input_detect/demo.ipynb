{
 "cells": [
  {
   "cell_type": "markdown",
   "metadata": {},
   "source": [
    "# input_detect\n",
    "input_detect allows you to detect the input and whether it surpasses a certain threshold while executing other codes.\n",
    "\n",
    "## Installation\n",
    "For Windows:\n",
    "```\n",
    "pip install input_detect\n",
    "```\n",
    "For MacOS:\n",
    "```\n",
    "brew install portaudio\n",
    "pip install input_detect\n",
    "```\n",
    "\n",
    "## Usage\n",
    "This package is meant to be used in experiemnts, where the trials need to interact with given input. For example, with input_detect, a trial can be automatically stopped, or stimuli can be automatically changed, when the detected volume of the sbjects goes above a certain level."
   ]
  },
  {
   "cell_type": "code",
   "execution_count": 1,
   "metadata": {},
   "outputs": [],
   "source": [
    "from input_detect import ThresholdDetect"
   ]
  },
  {
   "cell_type": "code",
   "execution_count": 2,
   "metadata": {},
   "outputs": [],
   "source": [
    "ipdt = ThresholdDetect()"
   ]
  },
  {
   "cell_type": "markdown",
   "metadata": {},
   "source": [
    "### Initiate the input recording environment and start recording"
   ]
  },
  {
   "cell_type": "code",
   "execution_count": 3,
   "metadata": {},
   "outputs": [],
   "source": [
    "ipdt.init(channels=1)\n",
    "ipdt.start_recording()"
   ]
  },
  {
   "cell_type": "markdown",
   "metadata": {},
   "source": [
    "### Record the input and calculate the 30% threshold"
   ]
  },
  {
   "cell_type": "code",
   "execution_count": 4,
   "metadata": {},
   "outputs": [
    {
     "data": {
      "text/plain": [
       "116.634130859375"
      ]
     },
     "execution_count": 4,
     "metadata": {},
     "output_type": "execute_result"
    }
   ],
   "source": [
    "ipdt.calculate_threshold(30, data_len=400000, trial_num=2)"
   ]
  },
  {
   "cell_type": "markdown",
   "metadata": {},
   "source": [
    "### Detect whether the input surpasses the calculated threshold"
   ]
  },
  {
   "cell_type": "code",
   "execution_count": 5,
   "metadata": {},
   "outputs": [
    {
     "name": "stdout",
     "output_type": "stream",
     "text": [
      "Signal detected.\n"
     ]
    }
   ],
   "source": [
    "while ipdt.detect_signal(447):\n",
    "    pass\n",
    "print('Signal detected.')"
   ]
  },
  {
   "cell_type": "markdown",
   "metadata": {},
   "source": [
    "### Terminate recording"
   ]
  },
  {
   "cell_type": "code",
   "execution_count": 6,
   "metadata": {},
   "outputs": [],
   "source": [
    "ipdt.terminate_recording()"
   ]
  }
 ],
 "metadata": {
  "kernelspec": {
   "display_name": "default_env",
   "language": "python",
   "name": "python3"
  },
  "language_info": {
   "codemirror_mode": {
    "name": "ipython",
    "version": 3
   },
   "file_extension": ".py",
   "mimetype": "text/x-python",
   "name": "python",
   "nbconvert_exporter": "python",
   "pygments_lexer": "ipython3",
   "version": "3.12.3"
  }
 },
 "nbformat": 4,
 "nbformat_minor": 2
}
