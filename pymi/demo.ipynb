{
 "cells": [
  {
   "cell_type": "markdown",
   "metadata": {},
   "source": [
    "## *pymi* allows you to:\n",
    "\n",
    "calculate the MI (mutual information) and AMI (average mutual information) between each pair of bigram in a given corpus.\n",
    "plot sentences into trees based on the MI/AMI.\n",
    "segment sentences based on the MI/AMI.\n",
    "plot the mean number of word distribution for different thresholds of MI/AMI."
   ]
  },
  {
   "cell_type": "code",
   "execution_count": 1,
   "metadata": {},
   "outputs": [],
   "source": [
    "# Install the dependencies:\n",
    "# !pip install -r requirements.txt"
   ]
  },
  {
   "cell_type": "code",
   "execution_count": 2,
   "metadata": {},
   "outputs": [],
   "source": [
    "from pymi import PyMi\n",
    "import seaborn as sns"
   ]
  },
  {
   "cell_type": "code",
   "execution_count": 3,
   "metadata": {},
   "outputs": [],
   "source": [
    "sentences = [\n",
    "    ['i', 'enjoy', 'cooking', 'delicious', 'meals', 'for', 'my', 'friends', 'and', 'family'],\n",
    "    ['colorless', 'green', 'sleeps', 'furiously'],\n",
    "    ['the', 'sun', 'is', 'shining', 'brightly'],\n",
    "    ['i', 'love', 'to', 'travel', 'and', 'explore', 'new', 'places'],\n",
    "    ['music', 'makes', 'me', 'feel', 'alive'],\n",
    "    ['coffee', 'is', 'my', 'go-to', 'morning', 'drink'],\n",
    "    ['rainy', 'days', 'are', 'perfect', 'for', 'staying', 'in', 'and', 'reading', 'a', 'book'],\n",
    "    ['hiking', 'in', 'the', 'mountains', 'is', 'a', 'great', 'way', 'to', 'unwind'],\n",
    "    ['learning', 'new', 'things', 'is', 'always', 'exciting'],\n",
    "    ['the', 'sound', 'of', 'waves', 'crashing', 'on', 'the', 'beach', 'is', 'so', 'soothing'],\n",
    "    ['i', \"can't\", 'resist', 'a', 'good', 'piece', 'of', 'chocolate'],\n",
    "    ['artistic', 'expression', 'is', 'a', 'beautiful', 'way', 'to', 'communicate'],\n",
    "    [\"i'm\", 'always', 'up', 'for', 'a', 'fun', 'adventure'],\n",
    "    ['the', 'smell', 'of', 'freshly', 'baked', 'bread', 'is', 'irresistible'],\n",
    "    ['a', 'good', 'workout', 'can', 'boost', 'your', 'mood'],\n",
    "    ['exploring', 'the', 'night', 'sky', 'with', 'a', 'telescope', 'is', 'fascinating'],\n",
    "    ['spending', 'time', 'in', 'nature', 'recharges', 'my', 'energy'],\n",
    "    ['singing', 'in', 'the', 'shower', 'is', 'my', 'guilty', 'pleasure'],\n",
    "    ['i', 'believe', 'in', 'the', 'power', 'of', 'positive', 'thinking'],\n",
    "    ['laughter', 'is', 'the', 'best', 'medicine'],\n",
    "    ['helping', 'others', 'is', 'a', 'noble', 'pursuit'],\n",
    "    ['dancing', 'is', 'a', 'great', 'way', 'to', 'express', 'yourself'],\n",
    "    ['a', 'good', 'book', 'can', 'transport', 'you', 'to', 'another', 'world'],\n",
    "    ['a', 'warm', 'cup', 'of', 'tea', 'is', 'perfect', 'for', 'a', 'cold', 'day'],\n",
    "    ['i', 'enjoy', 'solving', 'challenging', 'puzzles'],\n",
    "    ['animals', 'bring', 'joy', 'to', 'my', 'life'],\n",
    "    ['traveling', 'allows', 'you', 'to', 'experience', 'different', 'cultures'],\n",
    "    ['i', 'appreciate', 'the', 'beauty', 'of', 'a', 'starry', 'night'],\n",
    "    ['meditation', 'helps', 'me', 'find', 'inner', 'peace'],\n",
    "    ['spending', 'time', 'with', 'loved', 'ones', 'is', 'priceless'],\n",
    "    ['learning', 'from', 'your', 'mistakes', 'is', 'important'],\n",
    "    ['the', 'aroma', 'of', 'fresh', 'flowers', 'is', 'delightful'],\n",
    "    ['i', 'find', 'solace', 'in', 'the', 'sound', 'of', 'a', 'babbling', 'brook'],\n",
    "    ['challenges', 'make', 'us', 'stronger'],\n",
    "    ['the', 'feeling', 'of', 'sand', 'between', 'your', 'toes', 'is', 'wonderful'],\n",
    "    ['a', 'smile', 'can', 'brighten', \"someone's\", 'day'],\n",
    "    ['i', 'believe', 'in', 'the', 'magic', 'of', 'the', 'universe'],\n",
    "    ['sharing', 'a', 'meal', 'with', 'friends', 'is', 'a', 'special', 'moment'],\n",
    "    ['learning', 'to', 'play', 'a', 'musical', 'instrument', 'is', 'fulfilling'],\n",
    "    ['the', 'excitement', 'of', 'a', 'rollercoaster', 'ride', 'is', 'exhilarating'],\n",
    "    ['kindness', 'is', 'a', 'virtue', 'we', 'should', 'all', 'practice'],\n",
    "    ['watching', 'a', 'sunset', 'is', 'a', 'breathtaking', 'experience'],\n",
    "    ['i', 'enjoy', 'the', 'thrill', 'of', 'a', 'good', 'mystery'],\n",
    "    ['wandering', 'through', 'a', 'forest', 'is', 'a', 'tranquil', 'experience'],\n",
    "    ['a', 'well-cooked', 'meal', 'is', 'a', 'work', 'of', 'art'],\n",
    "    ['hugs', 'can', 'convey', 'more', 'than', 'words'],\n",
    "    ['the', 'gentle', 'touch', 'of', 'a', 'loved', 'one', 'is', 'comforting'],\n",
    "    ['a', 'good', 'movie', 'can', 'captivate', 'your', 'imagination'],\n",
    "    ['candles', 'create', 'a', 'cozy', 'atmosphere']\n",
    "]"
   ]
  },
  {
   "cell_type": "code",
   "execution_count": 4,
   "metadata": {},
   "outputs": [
    {
     "name": "stdout",
     "output_type": "stream",
     "text": [
      "Getting bigrams...\n"
     ]
    },
    {
     "name": "stderr",
     "output_type": "stream",
     "text": [
      "100%|██████████| 49/49 [00:00<00:00, 480189.01it/s]\n"
     ]
    },
    {
     "name": "stdout",
     "output_type": "stream",
     "text": [
      "Getting word counts...\n"
     ]
    },
    {
     "name": "stderr",
     "output_type": "stream",
     "text": [
      "100%|██████████| 49/49 [00:00<00:00, 662970.63it/s]\n"
     ]
    }
   ],
   "source": [
    "mi_model = PyMi(sentences, use_pickle=False)"
   ]
  },
  {
   "cell_type": "code",
   "execution_count": 5,
   "metadata": {},
   "outputs": [
    {
     "data": {
      "text/plain": [
       "0.03662289713349294"
      ]
     },
     "execution_count": 5,
     "metadata": {},
     "output_type": "execute_result"
    }
   ],
   "source": [
    "mi_model.get_mi(['believe', 'in'])"
   ]
  },
  {
   "cell_type": "code",
   "execution_count": 6,
   "metadata": {},
   "outputs": [
    {
     "name": "stdout",
     "output_type": "stream",
     "text": [
      "                                                  _____.0097____                             \n",
      "                                                 |              |                            \n",
      "              _________________________________.0207_         .0134_________                 \n",
      "             |                                       |       |              |                \n",
      "    _______.0223_______________________             for     my         ___.0160_____         \n",
      "   |                                   |                              |             |        \n",
      " .0518__                  ___________.0309__                       friends       _.0223___   \n",
      "|       |                |                  |                                   |         |  \n",
      "i     enjoy         ___.0309____          meals                                and     family\n",
      "                   |            |                                                            \n",
      "                cooking     delicious                                                        \n"
     ]
    }
   ],
   "source": [
    "mi_model.sentence_to_tree(mi_model.documents[0], type_='ami').print()"
   ]
  },
  {
   "cell_type": "code",
   "execution_count": 7,
   "metadata": {},
   "outputs": [
    {
     "data": {
      "text/plain": [
       "['i enjoy', 'cooking delicious meals', 'for', 'my', 'friends', 'and', 'family']"
      ]
     },
     "execution_count": 7,
     "metadata": {},
     "output_type": "execute_result"
    }
   ],
   "source": [
    "mi_model.segment_sentence(mi_model.documents[0], type_='ami', threshold=.03, seg=' ')"
   ]
  },
  {
   "cell_type": "code",
   "execution_count": 8,
   "metadata": {},
   "outputs": [
    {
     "name": "stdout",
     "output_type": "stream",
     "text": [
      "     _______________________________________________________21.079_____                               \n",
      "    |                                                                  |                              \n",
      " 46.844_______________________________________________              42.159__________                  \n",
      "|                                                     |            |                |                 \n",
      "i               ___________________________________105.39_        my          ___70.266______         \n",
      "               |                                          |                  |               |        \n",
      "          __140.53_________________________              for              friends        _140.53___   \n",
      "         |                                 |                                            |          |  \n",
      "       enjoy                 ___________421.59__                                       and      family\n",
      "                            |                   |                                                     \n",
      "                      ___421.59____           meals                                                   \n",
      "                     |             |                                                                  \n",
      "                  cooking      delicious                                                              \n"
     ]
    }
   ],
   "source": [
    "mi_model.sentence_to_tree(mi_model.documents[0], type_='mi').print()"
   ]
  },
  {
   "cell_type": "code",
   "execution_count": 9,
   "metadata": {},
   "outputs": [
    {
     "data": {
      "text/plain": [
       "['i', 'enjoy cooking delicious meals', 'for', 'my', 'friends', 'and family']"
      ]
     },
     "execution_count": 9,
     "metadata": {},
     "output_type": "execute_result"
    }
   ],
   "source": [
    "mi_model.segment_sentence(mi_model.documents[0], type_='mi', threshold=140, seg=' ')"
   ]
  },
  {
   "cell_type": "code",
   "execution_count": 10,
   "metadata": {},
   "outputs": [
    {
     "name": "stdout",
     "output_type": "stream",
     "text": [
      "Getting bigrams...\n"
     ]
    },
    {
     "name": "stderr",
     "output_type": "stream",
     "text": [
      "100%|██████████| 49/49 [00:00<00:00, 660838.89it/s]\n"
     ]
    },
    {
     "name": "stdout",
     "output_type": "stream",
     "text": [
      "Getting word counts...\n"
     ]
    },
    {
     "name": "stderr",
     "output_type": "stream",
     "text": [
      "100%|██████████| 49/49 [00:00<00:00, 764018.20it/s]\n"
     ]
    }
   ],
   "source": [
    "mi_model = PyMi('demo_docs_eng.pickle', use_pickle=True)"
   ]
  },
  {
   "cell_type": "code",
   "execution_count": 11,
   "metadata": {},
   "outputs": [
    {
     "name": "stdout",
     "output_type": "stream",
     "text": [
      "Found existing mi file with 281 ngrams.\n"
     ]
    },
    {
     "name": "stderr",
     "output_type": "stream",
     "text": [
      "0it [00:00, ?it/s]\n"
     ]
    }
   ],
   "source": [
    "mi_model.save_mi_to_file(file_name='demo_docs_eng_mi_dic.pickle', type_='mi')"
   ]
  },
  {
   "cell_type": "code",
   "execution_count": 12,
   "metadata": {},
   "outputs": [
    {
     "data": {
      "text/plain": [
       "{('a', 'telescope'): 14.053270042194093,\n",
       " ('flowers', 'is'): 16.863924050632914,\n",
       " ('i', 'believe'): 46.84423347398032,\n",
       " ('to', 'experience'): 17.566587552742618,\n",
       " ('find', 'inner'): 210.7990506329114,\n",
       " ('staying', 'in'): 60.22830018083182,\n",
       " ('the', 'beach'): 23.42211673699016,\n",
       " ('of', 'positive'): 30.11415009041591,\n",
       " ('all', 'practice'): 421.5981012658228,\n",
       " ('for', 'my'): 21.07990506329114,\n",
       " ('thrill', 'of'): 30.11415009041591,\n",
       " ('mistakes', 'is'): 16.863924050632914,\n",
       " ('of', 'freshly'): 30.11415009041591,\n",
       " ('you', 'to'): 52.69976265822785,\n",
       " ('inner', 'peace'): 421.5981012658228,\n",
       " ('sunset', 'is'): 16.863924050632914,\n",
       " ('create', 'a'): 14.053270042194093,\n",
       " ('play', 'a'): 14.053270042194093,\n",
       " ('make', 'us'): 421.5981012658228,\n",
       " ('spending', 'time'): 210.7990506329114,\n",
       " ('a', 'noble'): 14.053270042194093,\n",
       " ('virtue', 'we'): 421.5981012658228,\n",
       " ('experience', 'different'): 140.53270042194094,\n",
       " ('excitement', 'of'): 30.11415009041591,\n",
       " ('wandering', 'through'): 421.5981012658228,\n",
       " ('a', 'babbling'): 14.053270042194093,\n",
       " ('enjoy', 'the'): 7.8073722456633865,\n",
       " ('animals', 'bring'): 421.5981012658228,\n",
       " ('always', 'up'): 210.7990506329114,\n",
       " ('of', 'tea'): 30.11415009041591,\n",
       " ('is', 'delightful'): 16.863924050632914,\n",
       " ('is', 'the'): 0.9368846694796062,\n",
       " ('musical', 'instrument'): 421.5981012658228,\n",
       " ('of', 'art'): 30.11415009041591,\n",
       " ('learning', 'to'): 17.566587552742618,\n",
       " ('of', 'chocolate'): 30.11415009041591,\n",
       " ('a', 'well-cooked'): 14.053270042194093,\n",
       " ('good', 'movie'): 84.31962025316456,\n",
       " ('sun', 'is'): 16.863924050632914,\n",
       " ('sleeps', 'furiously'): 421.5981012658228,\n",
       " ('friends', 'is'): 8.431962025316457,\n",
       " ('feel', 'alive'): 421.5981012658228,\n",
       " ('to', 'communicate'): 52.69976265822785,\n",
       " ('my', 'energy'): 84.31962025316456,\n",
       " ('warm', 'cup'): 421.5981012658228,\n",
       " ('the', 'sun'): 23.42211673699016,\n",
       " ('nature', 'recharges'): 421.5981012658228,\n",
       " ('us', 'stronger'): 421.5981012658228,\n",
       " ('a', 'smile'): 14.053270042194093,\n",
       " ('a', 'special'): 14.053270042194093,\n",
       " ('good', 'book'): 42.15981012658228,\n",
       " ('a', 'cold'): 14.053270042194093,\n",
       " ('touch', 'of'): 30.11415009041591,\n",
       " ('solving', 'challenging'): 421.5981012658228,\n",
       " ('ride', 'is'): 16.863924050632914,\n",
       " ('waves', 'crashing'): 421.5981012658228,\n",
       " ('the', 'universe'): 23.42211673699016,\n",
       " ('a', 'musical'): 14.053270042194093,\n",
       " ('sky', 'with'): 140.53270042194094,\n",
       " ('instrument', 'is'): 16.863924050632914,\n",
       " ('to', 'my'): 10.53995253164557,\n",
       " ('challenging', 'puzzles'): 421.5981012658228,\n",
       " ('the', 'aroma'): 23.42211673699016,\n",
       " ('freshly', 'baked'): 421.5981012658228,\n",
       " ('breathtaking', 'experience'): 140.53270042194094,\n",
       " ('can', 'brighten'): 84.31962025316456,\n",
       " ('shower', 'is'): 16.863924050632914,\n",
       " ('of', 'the'): 1.6730083383564396,\n",
       " ('with', 'friends'): 70.26635021097047,\n",
       " ('colorless', 'green'): 421.5981012658228,\n",
       " ('your', 'imagination'): 105.3995253164557,\n",
       " ('for', 'a'): 7.0266350210970465,\n",
       " ('is', 'shining'): 16.863924050632914,\n",
       " ('delicious', 'meals'): 421.5981012658228,\n",
       " ('meal', 'with'): 70.26635021097047,\n",
       " ('the', 'feeling'): 23.42211673699016,\n",
       " ('laughter', 'is'): 16.863924050632914,\n",
       " ('artistic', 'expression'): 421.5981012658228,\n",
       " ('toes', 'is'): 16.863924050632914,\n",
       " ('is', 'important'): 16.863924050632914,\n",
       " ('positive', 'thinking'): 421.5981012658228,\n",
       " ('brighten', \"someone's\"): 421.5981012658228,\n",
       " ('meditation', 'helps'): 421.5981012658228,\n",
       " ('my', 'guilty'): 84.31962025316456,\n",
       " ('others', 'is'): 16.863924050632914,\n",
       " ('smile', 'can'): 84.31962025316456,\n",
       " ('explore', 'new'): 210.7990506329114,\n",
       " ('of', 'fresh'): 30.11415009041591,\n",
       " ('a', 'good'): 14.053270042194097,\n",
       " ('great', 'way'): 140.53270042194094,\n",
       " ('enjoy', 'solving'): 140.53270042194094,\n",
       " ('good', 'workout'): 84.31962025316456,\n",
       " ('for', 'staying'): 105.3995253164557,\n",
       " ('feeling', 'of'): 30.11415009041591,\n",
       " ('a', 'loved'): 7.0266350210970465,\n",
       " ('cooking', 'delicious'): 421.5981012658228,\n",
       " ('way', 'to'): 52.699762658227854,\n",
       " ('through', 'a'): 14.053270042194093,\n",
       " ('in', 'the'): 16.7300833835644,\n",
       " ('music', 'makes'): 421.5981012658228,\n",
       " ('good', 'piece'): 84.31962025316456,\n",
       " ('days', 'are'): 421.5981012658228,\n",
       " ('i', \"can't\"): 46.84423347398032,\n",
       " ('i', 'love'): 46.84423347398032,\n",
       " ('a', 'beautiful'): 14.053270042194093,\n",
       " ('meal', 'is'): 8.431962025316457,\n",
       " ('gentle', 'touch'): 421.5981012658228,\n",
       " ('telescope', 'is'): 16.863924050632914,\n",
       " ('and', 'family'): 140.53270042194094,\n",
       " ('cup', 'of'): 30.11415009041591,\n",
       " ('cozy', 'atmosphere'): 421.5981012658228,\n",
       " ('expression', 'is'): 16.863924050632914,\n",
       " ('a', 'cozy'): 14.053270042194093,\n",
       " ('the', 'beauty'): 23.42211673699016,\n",
       " ('watching', 'a'): 14.053270042194093,\n",
       " ('is', 'comforting'): 16.863924050632914,\n",
       " ('is', 'wonderful'): 16.863924050632914,\n",
       " ('challenges', 'make'): 421.5981012658228,\n",
       " ('work', 'of'): 30.11415009041591,\n",
       " ('dancing', 'is'): 16.863924050632914,\n",
       " ('a', 'work'): 14.053270042194093,\n",
       " ('rollercoaster', 'ride'): 421.5981012658228,\n",
       " ('new', 'things'): 210.7990506329114,\n",
       " ('on', 'the'): 23.42211673699016,\n",
       " ('the', 'night'): 11.71105836849508,\n",
       " ('singing', 'in'): 60.22830018083182,\n",
       " ('the', 'best'): 23.42211673699016,\n",
       " ('transport', 'you'): 210.7990506329114,\n",
       " ('time', 'with'): 70.26635021097047,\n",
       " ('your', 'toes'): 105.3995253164557,\n",
       " ('new', 'places'): 210.7990506329114,\n",
       " ('enjoy', 'cooking'): 140.53270042194094,\n",
       " ('fun', 'adventure'): 421.5981012658228,\n",
       " ('book', 'can'): 42.15981012658228,\n",
       " ('good', 'mystery'): 84.31962025316456,\n",
       " ('sharing', 'a'): 14.053270042194093,\n",
       " ('tranquil', 'experience'): 140.53270042194094,\n",
       " ('your', 'mistakes'): 105.3995253164557,\n",
       " ('a', 'warm'): 14.053270042194093,\n",
       " ('believe', 'in'): 60.22830018083182,\n",
       " ('a', 'sunset'): 14.053270042194093,\n",
       " ('express', 'yourself'): 421.5981012658228,\n",
       " ('my', 'go-to'): 84.31962025316456,\n",
       " ('to', 'another'): 52.69976265822785,\n",
       " ('can', 'captivate'): 84.31962025316456,\n",
       " ('a', 'tranquil'): 14.053270042194093,\n",
       " ('things', 'is'): 16.863924050632914,\n",
       " ('can', 'transport'): 84.31962025316456,\n",
       " ('a', 'meal'): 7.0266350210970465,\n",
       " ('a', 'starry'): 14.053270042194093,\n",
       " ('hiking', 'in'): 60.22830018083182,\n",
       " ('different', 'cultures'): 421.5981012658228,\n",
       " ('of', 'waves'): 30.11415009041591,\n",
       " ('is', 'fascinating'): 16.863924050632914,\n",
       " ('my', 'life'): 84.31962025316456,\n",
       " ('another', 'world'): 421.5981012658228,\n",
       " ('i', 'find'): 23.42211673699016,\n",
       " ('go-to', 'morning'): 421.5981012658228,\n",
       " ('in', 'and'): 20.076100060277277,\n",
       " ('beautiful', 'way'): 140.53270042194094,\n",
       " ('starry', 'night'): 210.7990506329114,\n",
       " ('with', 'a'): 4.684423347398032,\n",
       " ('the', 'thrill'): 23.42211673699016,\n",
       " ('is', 'perfect'): 8.431962025316457,\n",
       " ('a', 'rollercoaster'): 14.053270042194093,\n",
       " ('is', 'my'): 6.745569620253166,\n",
       " ('the', 'power'): 23.42211673699016,\n",
       " ('workout', 'can'): 84.31962025316456,\n",
       " ('a', 'breathtaking'): 14.053270042194093,\n",
       " ('we', 'should'): 421.5981012658228,\n",
       " (\"someone's\", 'day'): 210.7990506329114,\n",
       " ('a', 'book'): 7.0266350210970465,\n",
       " ('piece', 'of'): 30.11415009041591,\n",
       " ('fresh', 'flowers'): 421.5981012658228,\n",
       " ('best', 'medicine'): 421.5981012658228,\n",
       " ('perfect', 'for'): 105.3995253164557,\n",
       " ('helps', 'me'): 210.7990506329114,\n",
       " ('me', 'feel'): 210.7990506329114,\n",
       " ('the', 'mountains'): 23.42211673699016,\n",
       " ('always', 'exciting'): 210.7990506329114,\n",
       " ('bread', 'is'): 16.863924050632914,\n",
       " ('boost', 'your'): 105.3995253164557,\n",
       " ('are', 'perfect'): 210.7990506329114,\n",
       " ('is', 'so'): 16.863924050632914,\n",
       " ('solace', 'in'): 60.22830018083182,\n",
       " ('a', 'virtue'): 14.053270042194093,\n",
       " ('should', 'all'): 421.5981012658228,\n",
       " ('recharges', 'my'): 84.31962025316456,\n",
       " ('from', 'your'): 105.3995253164557,\n",
       " ('the', 'smell'): 23.42211673699016,\n",
       " ('beach', 'is'): 16.863924050632914,\n",
       " (\"can't\", 'resist'): 421.5981012658228,\n",
       " ('and', 'explore'): 140.53270042194094,\n",
       " ('appreciate', 'the'): 23.42211673699016,\n",
       " ('is', 'fulfilling'): 16.863924050632914,\n",
       " (\"i'm\", 'always'): 210.7990506329114,\n",
       " ('convey', 'more'): 421.5981012658228,\n",
       " ('i', 'enjoy'): 46.84423347398032,\n",
       " ('to', 'unwind'): 52.69976265822785,\n",
       " ('find', 'solace'): 210.7990506329114,\n",
       " ('a', 'forest'): 14.053270042194093,\n",
       " ('a', 'great'): 14.053270042194093,\n",
       " ('traveling', 'allows'): 421.5981012658228,\n",
       " ('reading', 'a'): 14.053270042194093,\n",
       " ('well-cooked', 'meal'): 210.7990506329114,\n",
       " ('candles', 'create'): 421.5981012658228,\n",
       " ('morning', 'drink'): 421.5981012658228,\n",
       " ('sand', 'between'): 421.5981012658228,\n",
       " ('power', 'of'): 30.11415009041591,\n",
       " ('aroma', 'of'): 30.11415009041591,\n",
       " ('travel', 'and'): 140.53270042194094,\n",
       " ('coffee', 'is'): 16.863924050632914,\n",
       " ('is', 'always'): 8.431962025316457,\n",
       " ('meals', 'for'): 105.3995253164557,\n",
       " ('shining', 'brightly'): 421.5981012658228,\n",
       " ('is', 'a'): 5.059177215189874,\n",
       " ('the', 'magic'): 23.42211673699016,\n",
       " ('a', 'fun'): 14.053270042194093,\n",
       " ('green', 'sleeps'): 421.5981012658228,\n",
       " ('can', 'boost'): 84.31962025316456,\n",
       " ('sound', 'of'): 30.11415009041591,\n",
       " ('guilty', 'pleasure'): 421.5981012658228,\n",
       " ('tea', 'is'): 16.863924050632914,\n",
       " ('learning', 'from'): 140.53270042194094,\n",
       " ('me', 'find'): 105.3995253164557,\n",
       " ('captivate', 'your'): 105.3995253164557,\n",
       " ('the', 'sound'): 23.42211673699016,\n",
       " ('my', 'friends'): 42.15981012658228,\n",
       " ('learning', 'new'): 70.26635021097047,\n",
       " ('resist', 'a'): 14.053270042194093,\n",
       " ('to', 'play'): 52.69976265822785,\n",
       " ('forest', 'is'): 16.863924050632914,\n",
       " ('up', 'for'): 105.3995253164557,\n",
       " ('friends', 'and'): 70.26635021097047,\n",
       " ('ones', 'is'): 16.863924050632914,\n",
       " ('joy', 'to'): 52.69976265822785,\n",
       " ('and', 'reading'): 140.53270042194094,\n",
       " ('your', 'mood'): 105.3995253164557,\n",
       " ('beauty', 'of'): 30.11415009041591,\n",
       " ('so', 'soothing'): 421.5981012658228,\n",
       " ('magic', 'of'): 30.11415009041591,\n",
       " ('the', 'excitement'): 23.42211673699016,\n",
       " ('is', 'exhilarating'): 16.863924050632914,\n",
       " ('can', 'convey'): 84.31962025316456,\n",
       " ('the', 'gentle'): 23.42211673699016,\n",
       " ('helping', 'others'): 421.5981012658228,\n",
       " ('of', 'sand'): 30.11415009041591,\n",
       " ('baked', 'bread'): 421.5981012658228,\n",
       " ('with', 'loved'): 70.26635021097047,\n",
       " ('in', 'nature'): 60.22830018083182,\n",
       " ('of', 'a'): 5.019025015069319,\n",
       " ('babbling', 'brook'): 421.5981012658228,\n",
       " ('one', 'is'): 16.863924050632914,\n",
       " ('night', 'sky'): 210.7990506329114,\n",
       " ('more', 'than'): 421.5981012658228,\n",
       " ('hugs', 'can'): 84.31962025316456,\n",
       " ('than', 'words'): 421.5981012658228,\n",
       " ('rainy', 'days'): 421.5981012658228,\n",
       " ('movie', 'can'): 84.31962025316456,\n",
       " ('bring', 'joy'): 421.5981012658228,\n",
       " ('the', 'shower'): 23.42211673699016,\n",
       " ('is', 'priceless'): 16.863924050632914,\n",
       " ('loved', 'one'): 210.7990506329114,\n",
       " ('crashing', 'on'): 421.5981012658228,\n",
       " ('i', 'appreciate'): 46.84423347398032,\n",
       " ('exploring', 'the'): 23.42211673699016,\n",
       " ('love', 'to'): 52.69976265822785,\n",
       " ('kindness', 'is'): 16.863924050632914,\n",
       " ('makes', 'me'): 210.7990506329114,\n",
       " ('smell', 'of'): 30.11415009041591,\n",
       " ('noble', 'pursuit'): 421.5981012658228,\n",
       " ('between', 'your'): 105.3995253164557,\n",
       " ('mountains', 'is'): 16.863924050632914,\n",
       " ('allows', 'you'): 210.7990506329114,\n",
       " ('cold', 'day'): 210.7990506329114,\n",
       " ('to', 'express'): 52.69976265822785,\n",
       " ('loved', 'ones'): 210.7990506329114,\n",
       " ('special', 'moment'): 421.5981012658228,\n",
       " ('is', 'irresistible'): 16.863924050632914,\n",
       " ('to', 'travel'): 52.69976265822785,\n",
       " ('time', 'in'): 30.11415009041591}"
      ]
     },
     "execution_count": 12,
     "metadata": {},
     "output_type": "execute_result"
    }
   ],
   "source": [
    "mi_model.mi_dic"
   ]
  },
  {
   "cell_type": "code",
   "execution_count": 13,
   "metadata": {},
   "outputs": [
    {
     "name": "stderr",
     "output_type": "stream",
     "text": [
      "threshold:1000.0; word percentage:last––0.1424382307035368 this––0.1424382307035368: 100%|██████████| 150/150 [00:00<00:00, 2586.93it/s]  \n"
     ]
    }
   ],
   "source": [
    "distribution = mi_model.get_distribution(0, 1000, type_='mi')"
   ]
  },
  {
   "cell_type": "code",
   "execution_count": 14,
   "metadata": {},
   "outputs": [
    {
     "data": {
      "text/plain": [
       "<Axes: >"
      ]
     },
     "execution_count": 14,
     "metadata": {},
     "output_type": "execute_result"
    },
    {
     "data": {
      "image/png": "[encoded data removed]",
      "text/plain": [
       "<Figure size 640x480 with 1 Axes>"
      ]
     },
     "metadata": {},
     "output_type": "display_data"
    }
   ],
   "source": [
    "sns.lineplot(\n",
    "    x=distribution['threshold'],\n",
    "    y=distribution['mean_word_percentage']\n",
    ")"
   ]
  }
 ],
 "metadata": {
  "kernelspec": {
   "display_name": "default_env",
   "language": "python",
   "name": "python3"
  },
  "language_info": {
   "codemirror_mode": {
    "name": "ipython",
    "version": 3
   },
   "file_extension": ".py",
   "mimetype": "text/x-python",
   "name": "python",
   "nbconvert_exporter": "python",
   "pygments_lexer": "ipython3",
   "version": "3.12.3"
  }
 },
 "nbformat": 4,
 "nbformat_minor": 2
}
